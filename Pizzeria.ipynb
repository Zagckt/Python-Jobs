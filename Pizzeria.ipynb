{
  "nbformat": 4,
  "nbformat_minor": 0,
  "metadata": {
    "colab": {
      "provenance": []
    },
    "kernelspec": {
      "name": "python3",
      "display_name": "Python 3"
    },
    "language_info": {
      "name": "python"
    }
  },
  "cells": [
    {
      "cell_type": "code",
      "execution_count": null,
      "metadata": {
        "colab": {
          "base_uri": "https://localhost:8080/"
        },
        "id": "AW0y5mmmSb68",
        "outputId": "84ee6f88-c8bd-4232-fed7-ca872244011e"
      },
      "outputs": [
        {
          "output_type": "stream",
          "name": "stdout",
          "text": [
            "Hola, bienvenido a Bella Napoli pizza, Si deseas una pizza vegetariana Escribe 1 en contrario Escribe 2 : 9\n",
            "Lee bien las instrucciones dadas\n"
          ]
        }
      ],
      "source": [
        "int(input(\"Hola, bienvenido a Bella Napoli pizza, Si deseas una pizza vegetariana Escribe 1 en contrario Escribe 2 : \"))\n",
        "\n",
        "if(q==1):\n",
        "  print(\"Los Sabores son :  Pimenton y Tofu , recuerdo solo puedes agregar 1 sabor ademas del tomate y el queso :p\")\n",
        "  v=int(input(\"Si deseas pimenton ingresa 1, Si deseas tofu marca 2: \"))\n",
        "  if(v==1):\n",
        "    print(\"Tu Pizza es vegetariana esta contiene: Queso, Mozarella y Pimenton \")\n",
        "  elif(v==2):\n",
        "    print(\"Tu Pizza es vegetariana esta contiene: Queso, Mozarella y Tofu \")\n",
        "  else:\n",
        "    print(\"Lee bien las instrucciones dadas\")\n",
        "elif(q==2):\n",
        "   print(\"Los Sabores son : peperoni, jamon y Salmón , recuerdo solo puedes agregar 1 sabor ademas del tomate y el queso :p\")\n",
        "   n=int(input(\"Si deseas peperoni ingresa 1, Si deseas jamon marca 2 o si deseas salmon marca 3: \"))\n",
        "   if(n==1):\n",
        "      print(\"Tu Pizza es normal y esta contiene: Queso, Mozarella y Peperoni \")\n",
        "   elif(n==2):\n",
        "      print(\"Tu Pizza es normal y esta contiene: Queso, Mozarella y jamon \")\n",
        "   elif(n==3):\n",
        "      print(\"Tu pizza es normal y esta contiene: Queso, Mozarella y Salmon\")\n",
        "   else:\n",
        "      print(\"Lee bien las instrucciones dadas\")\n",
        "else:\n",
        "  print(\"Lee bien las instrucciones dadas\")\n",
        "\n"
      ]
    }
  ]
}